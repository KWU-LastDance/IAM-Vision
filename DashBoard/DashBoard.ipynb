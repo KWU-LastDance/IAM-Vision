{
 "cells": [
  {
   "cell_type": "code",
   "execution_count": 1,
   "metadata": {},
   "outputs": [
    {
     "data": {
      "text/plain": [
       "'\\nimport pandas as pd\\nimport numpy as np\\n\\n# 날짜 생성\\ndate_range = pd.date_range(start=\\'2023-01-01\\', end=\\'2023-12-31\\')\\n\\n# 초기값 설정\\nnp.random.seed(45)  # 재현성을 위해 시드 설정\\ninitial_special = 3092\\ninitial_good = 2987\\ninitial_bad = 2898\\n\\ndata = {\\n    \\'date\\': date_range,\\n    \\'special\\': [initial_special],\\n    \\'good\\': [initial_good],\\n    \\'bad\\': [initial_bad]\\n}\\n\\n# 더미 데이터 생성\\nfor i in range(1, len(date_range)):\\n    prev_special = data[\\'special\\'][i-1]\\n    prev_good = data[\\'good\\'][i-1]\\n    prev_bad = data[\\'bad\\'][i-1]\\n    \\n    # special 품질 사과 수량 생성\\n    change_special = np.random.normal(loc=0, scale=100)\\n    new_special = prev_special + change_special\\n    if new_special < 2000:\\n        new_special = 2000 + abs(change_special)\\n    elif new_special > 4000:\\n        new_special = 4000 - abs(change_special)\\n    \\n    # good 품질 사과 수량 생성\\n    change_good = np.random.normal(loc=0, scale=100)\\n    new_good = prev_good + change_good\\n    if new_good < 2000:\\n        new_good = 2000 + abs(change_good)\\n    elif new_good > 4000:\\n        new_good = 4000 - abs(change_good)\\n    \\n    # bad 품질 사과 수량 생성\\n    change_bad = np.random.normal(loc=0, scale=100)\\n    new_bad = prev_bad + change_bad\\n    if new_bad < 2000:\\n        new_bad = 2000 + abs(change_bad)\\n    elif new_bad > 4000:\\n        new_bad = 4000 - abs(change_bad)\\n    \\n    data[\\'special\\'].append(int(new_special))\\n    data[\\'good\\'].append(int(new_good))\\n    data[\\'bad\\'].append(int(new_bad))\\n\\n# 데이터프레임 생성\\ndf = pd.DataFrame(data)\\n\\n# 데이터프레임 저장\\ndf.to_csv(\"apple_stock.csv\", index=False)\\n\\n# 데이터 확인\\nprint(df.head())\\nprint(df.tail())\\n'"
      ]
     },
     "execution_count": 1,
     "metadata": {},
     "output_type": "execute_result"
    }
   ],
   "source": [
    "'''\n",
    "import pandas as pd\n",
    "import numpy as np\n",
    "\n",
    "# 날짜 생성\n",
    "date_range = pd.date_range(start='2023-01-01', end='2023-12-31')\n",
    "\n",
    "# 초기값 설정\n",
    "np.random.seed(45)  # 재현성을 위해 시드 설정\n",
    "initial_special = 3092\n",
    "initial_good = 2987\n",
    "initial_bad = 2898\n",
    "\n",
    "data = {\n",
    "    'date': date_range,\n",
    "    'special': [initial_special],\n",
    "    'good': [initial_good],\n",
    "    'bad': [initial_bad]\n",
    "}\n",
    "\n",
    "# 더미 데이터 생성\n",
    "for i in range(1, len(date_range)):\n",
    "    prev_special = data['special'][i-1]\n",
    "    prev_good = data['good'][i-1]\n",
    "    prev_bad = data['bad'][i-1]\n",
    "    \n",
    "    # special 품질 사과 수량 생성\n",
    "    change_special = np.random.normal(loc=0, scale=100)\n",
    "    new_special = prev_special + change_special\n",
    "    if new_special < 2000:\n",
    "        new_special = 2000 + abs(change_special)\n",
    "    elif new_special > 4000:\n",
    "        new_special = 4000 - abs(change_special)\n",
    "    \n",
    "    # good 품질 사과 수량 생성\n",
    "    change_good = np.random.normal(loc=0, scale=100)\n",
    "    new_good = prev_good + change_good\n",
    "    if new_good < 2000:\n",
    "        new_good = 2000 + abs(change_good)\n",
    "    elif new_good > 4000:\n",
    "        new_good = 4000 - abs(change_good)\n",
    "    \n",
    "    # bad 품질 사과 수량 생성\n",
    "    change_bad = np.random.normal(loc=0, scale=100)\n",
    "    new_bad = prev_bad + change_bad\n",
    "    if new_bad < 2000:\n",
    "        new_bad = 2000 + abs(change_bad)\n",
    "    elif new_bad > 4000:\n",
    "        new_bad = 4000 - abs(change_bad)\n",
    "    \n",
    "    data['special'].append(int(new_special))\n",
    "    data['good'].append(int(new_good))\n",
    "    data['bad'].append(int(new_bad))\n",
    "\n",
    "# 데이터프레임 생성\n",
    "df = pd.DataFrame(data)\n",
    "\n",
    "# 데이터프레임 저장\n",
    "df.to_csv(\"apple_stock.csv\", index=False)\n",
    "\n",
    "# 데이터 확인\n",
    "print(df.head())\n",
    "print(df.tail())\n",
    "'''"
   ]
  },
  {
   "cell_type": "code",
   "execution_count": 2,
   "metadata": {},
   "outputs": [
    {
     "name": "stdout",
     "output_type": "stream",
     "text": [
      "Performing stepwise search to minimize aic\n",
      " ARIMA(2,1,2)(0,0,0)[0] intercept   : AIC=4317.655, Time=0.13 sec\n",
      " ARIMA(0,1,0)(0,0,0)[0] intercept   : AIC=4317.437, Time=0.01 sec\n",
      " ARIMA(1,1,0)(0,0,0)[0] intercept   : AIC=4319.377, Time=0.02 sec\n",
      " ARIMA(0,1,1)(0,0,0)[0] intercept   : AIC=4319.356, Time=0.05 sec\n",
      " ARIMA(0,1,0)(0,0,0)[0]             : AIC=4315.488, Time=0.01 sec\n",
      " ARIMA(1,1,1)(0,0,0)[0] intercept   : AIC=4319.688, Time=0.15 sec\n",
      "\n",
      "Best model:  ARIMA(0,1,0)(0,0,0)[0]          \n",
      "Total fit time: 0.383 seconds\n",
      "Best order for special: (0, 1, 0)\n",
      "Performing stepwise search to minimize aic\n",
      " ARIMA(2,1,2)(0,0,0)[0] intercept   : AIC=4360.439, Time=0.23 sec\n",
      " ARIMA(0,1,0)(0,0,0)[0] intercept   : AIC=4357.287, Time=0.01 sec\n",
      " ARIMA(1,1,0)(0,0,0)[0] intercept   : AIC=4356.061, Time=0.02 sec\n",
      " ARIMA(0,1,1)(0,0,0)[0] intercept   : AIC=4356.047, Time=0.09 sec\n",
      " ARIMA(0,1,0)(0,0,0)[0]             : AIC=4355.298, Time=0.01 sec\n",
      " ARIMA(1,1,1)(0,0,0)[0] intercept   : AIC=4357.913, Time=0.12 sec\n",
      "\n",
      "Best model:  ARIMA(0,1,0)(0,0,0)[0]          \n",
      "Total fit time: 0.481 seconds\n",
      "Best order for good: (0, 1, 0)\n",
      "Performing stepwise search to minimize aic\n",
      " ARIMA(2,1,2)(0,0,0)[0] intercept   : AIC=4359.376, Time=0.38 sec\n",
      " ARIMA(0,1,0)(0,0,0)[0] intercept   : AIC=4355.780, Time=0.01 sec\n",
      " ARIMA(1,1,0)(0,0,0)[0] intercept   : AIC=4355.155, Time=0.02 sec\n",
      " ARIMA(0,1,1)(0,0,0)[0] intercept   : AIC=4355.137, Time=0.09 sec\n",
      " ARIMA(0,1,0)(0,0,0)[0]             : AIC=4353.903, Time=0.01 sec\n",
      " ARIMA(1,1,1)(0,0,0)[0] intercept   : AIC=4357.136, Time=0.16 sec\n",
      "\n",
      "Best model:  ARIMA(0,1,0)(0,0,0)[0]          \n",
      "Total fit time: 0.672 seconds\n",
      "Best order for bad: (0, 1, 0)\n"
     ]
    }
   ],
   "source": [
    "import pandas as pd\n",
    "import numpy as np\n",
    "import statsmodels.api as sm\n",
    "from pmdarima import auto_arima\n",
    "from jupyter_dash import JupyterDash\n",
    "from dash import dcc, html\n",
    "from dash.dependencies import Input, Output\n",
    "import plotly.express as px\n",
    "\n",
    "# 데이터 로드\n",
    "file_path = 'apple_stock.csv'\n",
    "data = pd.read_csv(file_path)\n",
    "\n",
    "# 날짜 형식을 datetime으로 변환\n",
    "data['date'] = pd.to_datetime(data['date'])\n",
    "\n",
    "# 최적의 하이퍼파라미터 찾기 함수 정의\n",
    "def find_best_arima_params(data):\n",
    "    model = auto_arima(data, seasonal=False, trace=True, error_action='ignore', suppress_warnings=True)\n",
    "    return model.order\n",
    "\n",
    "# 각 품질별로 최적의 하이퍼파라미터 찾기\n",
    "best_params = {}\n",
    "for quality in ['special', 'good', 'bad']:\n",
    "    best_order = find_best_arima_params(data[quality])\n",
    "    best_params[quality] = best_order\n",
    "    print(f'Best order for {quality}: {best_order}')\n"
   ]
  },
  {
   "cell_type": "code",
   "execution_count": 3,
   "metadata": {},
   "outputs": [
    {
     "data": {
      "text/plain": [
       "{'special': (0, 1, 0), 'good': (0, 1, 0), 'bad': (0, 1, 0)}"
      ]
     },
     "execution_count": 3,
     "metadata": {},
     "output_type": "execute_result"
    }
   ],
   "source": [
    "best_params"
   ]
  },
  {
   "cell_type": "code",
   "execution_count": 4,
   "metadata": {},
   "outputs": [],
   "source": [
    "# 예측 생성 함수 정의 (다음날 예측)\n",
    "def generate_forecast(data, best_params):\n",
    "    last_date = data['date'].max()\n",
    "    next_date = last_date + pd.Timedelta(days=1)\n",
    "    forecast_data = {'date': [next_date]}\n",
    "\n",
    "    for quality in ['special', 'good', 'bad']:\n",
    "        best_order = best_params[quality]\n",
    "        model = sm.tsa.ARIMA(data[quality], order=best_order)\n",
    "        model_fit = model.fit()\n",
    "        forecast = model_fit.forecast(steps=1)\n",
    "        forecast = np.round(forecast).astype(int)  # 정수형으로 변환\n",
    "        forecast_data[quality] = forecast\n",
    "\n",
    "    forecast_df = pd.DataFrame(forecast_data)\n",
    "    return forecast_df\n"
   ]
  },
  {
   "cell_type": "code",
   "execution_count": 5,
   "metadata": {},
   "outputs": [
    {
     "name": "stderr",
     "output_type": "stream",
     "text": [
      "c:\\Users\\dhshs\\anaconda3\\Lib\\site-packages\\dash\\dash.py:556: UserWarning:\n",
      "\n",
      "JupyterDash is deprecated, use Dash instead.\n",
      "See https://dash.plotly.com/dash-in-jupyter for more details.\n",
      "\n"
     ]
    }
   ],
   "source": [
    "# JupyterDash 앱 초기화\n",
    "app = JupyterDash(__name__)\n",
    "\n",
    "# 레이아웃 정의\n",
    "app.layout = html.Div([\n",
    "    dcc.DatePickerRange(\n",
    "        id='date-picker-range',\n",
    "        start_date=data['date'].min(),\n",
    "        end_date=data['date'].max(),\n",
    "        display_format='YYYY-MM-DD',\n",
    "        style={'backgroundColor': '#E0F7FA', 'color': '#000000'}\n",
    "    ),\n",
    "    dcc.Graph(id='line-chart', style={'backgroundColor': '#E0F7FA'}),\n",
    "    dcc.Graph(id='pie-chart', style={'backgroundColor': '#E0F7FA'}),\n",
    "    dcc.Graph(id='forecast-chart', style={'backgroundColor': '#E0F7FA'})\n",
    "], style={'backgroundColor': '#E0F7FA'})\n"
   ]
  },
  {
   "cell_type": "code",
   "execution_count": 6,
   "metadata": {},
   "outputs": [
    {
     "data": {
      "text/html": [
       "\n",
       "        <iframe\n",
       "            width=\"100%\"\n",
       "            height=\"650\"\n",
       "            src=\"http://127.0.0.1:8050/\"\n",
       "            frameborder=\"0\"\n",
       "            allowfullscreen\n",
       "            \n",
       "        ></iframe>\n",
       "        "
      ],
      "text/plain": [
       "<IPython.lib.display.IFrame at 0x222721a7910>"
      ]
     },
     "metadata": {},
     "output_type": "display_data"
    },
    {
     "name": "stderr",
     "output_type": "stream",
     "text": [
      "c:\\Users\\dhshs\\anaconda3\\Lib\\site-packages\\_plotly_utils\\basevalidators.py:106: FutureWarning:\n",
      "\n",
      "The behavior of DatetimeProperties.to_pydatetime is deprecated, in a future version this will return a Series containing python datetime objects instead of an ndarray. To retain the old behavior, call `np.array` on the result\n",
      "\n"
     ]
    },
    {
     "data": {
      "text/html": [
       "\n",
       "        <iframe\n",
       "            width=\"100%\"\n",
       "            height=\"650\"\n",
       "            src=\"http://127.0.0.1:8050/\"\n",
       "            frameborder=\"0\"\n",
       "            allowfullscreen\n",
       "            \n",
       "        ></iframe>\n",
       "        "
      ],
      "text/plain": [
       "<IPython.lib.display.IFrame at 0x2226f645d90>"
      ]
     },
     "metadata": {},
     "output_type": "display_data"
    },
    {
     "name": "stderr",
     "output_type": "stream",
     "text": [
      "c:\\Users\\dhshs\\anaconda3\\Lib\\site-packages\\_plotly_utils\\basevalidators.py:106: FutureWarning:\n",
      "\n",
      "The behavior of DatetimeProperties.to_pydatetime is deprecated, in a future version this will return a Series containing python datetime objects instead of an ndarray. To retain the old behavior, call `np.array` on the result\n",
      "\n"
     ]
    }
   ],
   "source": [
    "# 콜백 함수 정의\n",
    "@app.callback(\n",
    "    [Output('line-chart', 'figure'),\n",
    "     Output('pie-chart', 'figure'),\n",
    "     Output('forecast-chart', 'figure')],\n",
    "    [Input('date-picker-range', 'start_date'),\n",
    "     Input('date-picker-range', 'end_date')]\n",
    ")\n",
    "def update_charts(start_date, end_date):\n",
    "    if not start_date or not end_date:\n",
    "        return {}, {}, {}\n",
    "\n",
    "    # 선택한 날짜 범위에 따른 데이터 필터링\n",
    "    filtered_data = data[(data['date'] >= start_date) & (data['date'] <= end_date)]\n",
    "\n",
    "    # 라인 차트 생성\n",
    "    line_fig = px.line(filtered_data, x='date', y=['special', 'good', 'bad'], \n",
    "                       labels={'value': '수량', 'variable': '품질'},\n",
    "                       title='날짜별 품질별 사과 수량')\n",
    "    line_fig.update_layout(xaxis_title='날짜', yaxis_title='수량', template='plotly', plot_bgcolor='#E0F7FA')\n",
    "\n",
    "    # 원형 차트 생성\n",
    "    pie_data = filtered_data[['special', 'good', 'bad']].sum().reset_index()\n",
    "    pie_data.columns = ['quality', 'quantity']\n",
    "    pie_fig = px.pie(pie_data, values='quantity', names='quality', title='품질별 사과 수량 비율')\n",
    "    pie_fig.update_layout(template='plotly', plot_bgcolor='#E0F7FA')\n",
    "\n",
    "    # 예측 데이터 생성\n",
    "    forecast_data = generate_forecast(data, best_params)\n",
    "    \n",
    "    # 예측 데이터 막대그래프 생성\n",
    "    forecast_fig = px.bar(forecast_data.melt(id_vars='date', value_vars=['special', 'good', 'bad']),\n",
    "                          x='variable', y='value', color='variable', \n",
    "                          labels={'value': '수량', 'variable': '품질'},\n",
    "                          title='다음날 품질별 사과 수량 예측')\n",
    "    forecast_fig.update_layout(xaxis_title='품질', yaxis_title='수량', template='plotly', plot_bgcolor='#E0F7FA')\n",
    "\n",
    "    return line_fig, pie_fig, forecast_fig\n",
    "\n",
    "# 대시보드 실행\n",
    "app.run_server(mode='inline')\n"
   ]
  },
  {
   "cell_type": "code",
   "execution_count": null,
   "metadata": {},
   "outputs": [],
   "source": []
  }
 ],
 "metadata": {
  "kernelspec": {
   "display_name": "base",
   "language": "python",
   "name": "python3"
  },
  "language_info": {
   "codemirror_mode": {
    "name": "ipython",
    "version": 3
   },
   "file_extension": ".py",
   "mimetype": "text/x-python",
   "name": "python",
   "nbconvert_exporter": "python",
   "pygments_lexer": "ipython3",
   "version": "3.11.7"
  }
 },
 "nbformat": 4,
 "nbformat_minor": 2
}
